{
 "cells": [
  {
   "cell_type": "markdown",
   "id": "092236a8",
   "metadata": {
    "papermill": {
     "duration": 0.006466,
     "end_time": "2024-06-14T10:03:23.324796",
     "exception": false,
     "start_time": "2024-06-14T10:03:23.318330",
     "status": "completed"
    },
    "tags": []
   },
   "source": [
    "**This notebook is an exercise in the [Intro to Programming](https://www.kaggle.com/learn/intro-to-programming) course.  You can reference the tutorial at [this link](https://www.kaggle.com/alexisbcook/functions).**\n",
    "\n",
    "---\n"
   ]
  },
  {
   "cell_type": "markdown",
   "id": "a13daacc",
   "metadata": {
    "papermill": {
     "duration": 0.005569,
     "end_time": "2024-06-14T10:03:23.336632",
     "exception": false,
     "start_time": "2024-06-14T10:03:23.331063",
     "status": "completed"
    },
    "tags": []
   },
   "source": [
    "In the tutorial, you learned about functions. In this exercise, you'll write some of your own!\n",
    "\n",
    "# Set up the notebook\n",
    "\n",
    "Run the next code cell without changes to set up the notebook."
   ]
  },
  {
   "cell_type": "code",
   "execution_count": 1,
   "id": "17cdcba9",
   "metadata": {
    "execution": {
     "iopub.execute_input": "2024-06-14T10:03:23.351078Z",
     "iopub.status.busy": "2024-06-14T10:03:23.350038Z",
     "iopub.status.idle": "2024-06-14T10:03:24.230887Z",
     "shell.execute_reply": "2024-06-14T10:03:24.229817Z"
    },
    "papermill": {
     "duration": 0.890591,
     "end_time": "2024-06-14T10:03:24.233406",
     "exception": false,
     "start_time": "2024-06-14T10:03:23.342815",
     "status": "completed"
    },
    "tags": []
   },
   "outputs": [
    {
     "name": "stdout",
     "output_type": "stream",
     "text": [
      "Setup complete.\n"
     ]
    }
   ],
   "source": [
    "# Set up the exercise\n",
    "import math\n",
    "from learntools.core import binder\n",
    "binder.bind(globals())\n",
    "from learntools.intro_to_programming.ex2 import *\n",
    "print('Setup complete.')"
   ]
  },
  {
   "cell_type": "markdown",
   "id": "8a0902da",
   "metadata": {
    "papermill": {
     "duration": 0.005641,
     "end_time": "2024-06-14T10:03:24.245241",
     "exception": false,
     "start_time": "2024-06-14T10:03:24.239600",
     "status": "completed"
    },
    "tags": []
   },
   "source": [
    "# Question 1\n",
    "\n",
    "In the [House Prices - Advanced Regression Techniques competition](https://www.kaggle.com/c/house-prices-advanced-regression-techniques/overview), you need to use information like the number of bedrooms and bathrooms to predict the price of a house.  Inspired by this competition, you'll write your own function to do this.\n",
    "\n",
    "In the next code cell, create a function `get_expected_cost()` that has two arguments:\n",
    "- `beds` - number of bedrooms \n",
    "- `baths` - number of bathrooms\n",
    "\n",
    "It should return the expected cost of a house with that number of bedrooms and bathrooms.  Assume that:\n",
    "- the expected cost for a house with 0 bedrooms and 0 bathrooms is `80000`.  \n",
    "- each bedroom adds `30000` to the expected cost\n",
    "- each bathroom adds `10000` to the expected cost.\n",
    "\n",
    "For instance, \n",
    "- a house with 1 bedroom and 1 bathroom has an expected cost of `120000`, and \n",
    "- a house with 2 bedrooms and 1 bathroom has an expected cost of `150000`."
   ]
  },
  {
   "cell_type": "code",
   "execution_count": 2,
   "id": "aa7ffa19",
   "metadata": {
    "execution": {
     "iopub.execute_input": "2024-06-14T10:03:24.259759Z",
     "iopub.status.busy": "2024-06-14T10:03:24.258738Z",
     "iopub.status.idle": "2024-06-14T10:03:24.268848Z",
     "shell.execute_reply": "2024-06-14T10:03:24.267909Z"
    },
    "papermill": {
     "duration": 0.019649,
     "end_time": "2024-06-14T10:03:24.271031",
     "exception": false,
     "start_time": "2024-06-14T10:03:24.251382",
     "status": "completed"
    },
    "tags": []
   },
   "outputs": [
    {
     "data": {
      "application/javascript": [
       "parent.postMessage({\"jupyterEvent\": \"custom.exercise_interaction\", \"data\": {\"outcomeType\": 1, \"valueTowardsCompletion\": 0.2, \"interactionType\": 1, \"questionType\": 2, \"questionId\": \"1_GetExpectedCost\", \"learnToolsVersion\": \"0.3.4\", \"failureMessage\": \"\", \"exceptionClass\": \"\", \"trace\": \"\"}}, \"*\")"
      ],
      "text/plain": [
       "<IPython.core.display.Javascript object>"
      ]
     },
     "metadata": {},
     "output_type": "display_data"
    },
    {
     "data": {
      "text/markdown": [
       "<span style=\"color:#33cc33\">Correct</span>"
      ],
      "text/plain": [
       "Correct"
      ]
     },
     "metadata": {},
     "output_type": "display_data"
    }
   ],
   "source": [
    "# TODO: Complete the function\n",
    "def get_expected_cost(beds, baths):\n",
    "    value = 80000 + (beds * 30000) + (baths * 10000)\n",
    "    return value\n",
    "\n",
    "# Check your answer \n",
    "q1.check()"
   ]
  },
  {
   "cell_type": "code",
   "execution_count": 3,
   "id": "0ec40785",
   "metadata": {
    "execution": {
     "iopub.execute_input": "2024-06-14T10:03:24.285638Z",
     "iopub.status.busy": "2024-06-14T10:03:24.284750Z",
     "iopub.status.idle": "2024-06-14T10:03:24.289099Z",
     "shell.execute_reply": "2024-06-14T10:03:24.288144Z"
    },
    "papermill": {
     "duration": 0.014007,
     "end_time": "2024-06-14T10:03:24.291255",
     "exception": false,
     "start_time": "2024-06-14T10:03:24.277248",
     "status": "completed"
    },
    "tags": []
   },
   "outputs": [],
   "source": [
    "# Uncomment to see a hint\n",
    "#q1.hint()\n",
    "\n",
    "# Uncomment to view the solution\n",
    "#q1.solution()"
   ]
  },
  {
   "cell_type": "markdown",
   "id": "ea0d5943",
   "metadata": {
    "papermill": {
     "duration": 0.00582,
     "end_time": "2024-06-14T10:03:24.303318",
     "exception": false,
     "start_time": "2024-06-14T10:03:24.297498",
     "status": "completed"
    },
    "tags": []
   },
   "source": [
    "# Question 2\n",
    "\n",
    "You are thinking about buying a home and want to get an idea of how much you will spend, based on the number of bedrooms and bathrooms.  You are trying to decide between four different options:\n",
    "- Option 1: house with two bedrooms and three bathrooms\n",
    "- Option 2: house with three bedrooms and two bathrooms\n",
    "- Option 3: house with three bedrooms and three bathrooms\n",
    "- Option 4: house with three bedrooms and four bathrooms\n",
    "\n",
    "Use the `get_expected_cost()` function you defined in question 1 to set `option_1`, `option_2`, `option_3`, and `option_4` to the expected cost of each option."
   ]
  },
  {
   "cell_type": "code",
   "execution_count": 4,
   "id": "4ae2dcbf",
   "metadata": {
    "execution": {
     "iopub.execute_input": "2024-06-14T10:03:24.317546Z",
     "iopub.status.busy": "2024-06-14T10:03:24.316655Z",
     "iopub.status.idle": "2024-06-14T10:03:24.326891Z",
     "shell.execute_reply": "2024-06-14T10:03:24.325935Z"
    },
    "papermill": {
     "duration": 0.019464,
     "end_time": "2024-06-14T10:03:24.328856",
     "exception": false,
     "start_time": "2024-06-14T10:03:24.309392",
     "status": "completed"
    },
    "tags": []
   },
   "outputs": [
    {
     "name": "stdout",
     "output_type": "stream",
     "text": [
      "170000\n",
      "190000\n",
      "200000\n",
      "210000\n"
     ]
    },
    {
     "data": {
      "application/javascript": [
       "parent.postMessage({\"jupyterEvent\": \"custom.exercise_interaction\", \"data\": {\"outcomeType\": 1, \"valueTowardsCompletion\": 0.2, \"interactionType\": 1, \"questionType\": 1, \"questionId\": \"2_RunGetExpectedCost\", \"learnToolsVersion\": \"0.3.4\", \"failureMessage\": \"\", \"exceptionClass\": \"\", \"trace\": \"\"}}, \"*\")"
      ],
      "text/plain": [
       "<IPython.core.display.Javascript object>"
      ]
     },
     "metadata": {},
     "output_type": "display_data"
    },
    {
     "data": {
      "text/markdown": [
       "<span style=\"color:#33cc33\">Correct</span>"
      ],
      "text/plain": [
       "Correct"
      ]
     },
     "metadata": {},
     "output_type": "display_data"
    }
   ],
   "source": [
    "# TODO: Use the get_expected_cost function to fill in each value\n",
    "option_one = get_expected_cost(2, 3)\n",
    "option_two = get_expected_cost(3, 2)\n",
    "option_three = get_expected_cost(3, 3)\n",
    "option_four = get_expected_cost(3, 4)\n",
    "\n",
    "print(option_one)\n",
    "print(option_two)\n",
    "print(option_three)\n",
    "print(option_four)\n",
    "\n",
    "# Check your answer\n",
    "q2.check()"
   ]
  },
  {
   "cell_type": "code",
   "execution_count": 5,
   "id": "94581a3f",
   "metadata": {
    "execution": {
     "iopub.execute_input": "2024-06-14T10:03:24.343801Z",
     "iopub.status.busy": "2024-06-14T10:03:24.342889Z",
     "iopub.status.idle": "2024-06-14T10:03:24.347427Z",
     "shell.execute_reply": "2024-06-14T10:03:24.346419Z"
    },
    "papermill": {
     "duration": 0.014361,
     "end_time": "2024-06-14T10:03:24.349576",
     "exception": false,
     "start_time": "2024-06-14T10:03:24.335215",
     "status": "completed"
    },
    "tags": []
   },
   "outputs": [],
   "source": [
    "# Uncomment to see a hint\n",
    "#q2.hint()\n",
    "\n",
    "# Uncomment to view the solution\n",
    "#q2.solution()"
   ]
  },
  {
   "cell_type": "markdown",
   "id": "eb2c8e68",
   "metadata": {
    "papermill": {
     "duration": 0.006194,
     "end_time": "2024-06-14T10:03:24.362367",
     "exception": false,
     "start_time": "2024-06-14T10:03:24.356173",
     "status": "completed"
    },
    "tags": []
   },
   "source": [
    "# Question 3\n",
    "\n",
    "You're a home decorator, and you'd like to use Python to streamline some of your work.  Specifically, you're creating a tool that you intend to use to calculate the cost of painting a room.\n",
    "\n",
    "As a first step, define a function `get_cost()` that takes as input:\n",
    "- `sqft_walls` = total square feet of walls to be painted\n",
    "- `sqft_ceiling` = square feet of ceiling to be painted\n",
    "- `sqft_per_gallon` = number of square feet that you can cover with one gallon of paint\n",
    "- `cost_per_gallon` = cost (in dollars) of one gallon of paint\n",
    "\n",
    "It should return the cost (in dollars) of putting one coat of paint on all walls and the ceiling.  Assume you can buy the exact amount of paint that you need, so you can buy partial gallons (e.g., if you need 7.523 gallons, you can buy that exact amount, instead of needing to buy 8 gallons and waste some paint).  Do not round your answer."
   ]
  },
  {
   "cell_type": "markdown",
   "id": "aa27e529",
   "metadata": {
    "papermill": {
     "duration": 0.006179,
     "end_time": "2024-06-14T10:03:24.375081",
     "exception": false,
     "start_time": "2024-06-14T10:03:24.368902",
     "status": "completed"
    },
    "tags": []
   },
   "source": []
  },
  {
   "cell_type": "code",
   "execution_count": 6,
   "id": "f0fc0422",
   "metadata": {
    "execution": {
     "iopub.execute_input": "2024-06-14T10:03:24.390268Z",
     "iopub.status.busy": "2024-06-14T10:03:24.389353Z",
     "iopub.status.idle": "2024-06-14T10:03:24.398220Z",
     "shell.execute_reply": "2024-06-14T10:03:24.397233Z"
    },
    "papermill": {
     "duration": 0.018825,
     "end_time": "2024-06-14T10:03:24.400383",
     "exception": false,
     "start_time": "2024-06-14T10:03:24.381558",
     "status": "completed"
    },
    "tags": []
   },
   "outputs": [
    {
     "data": {
      "application/javascript": [
       "parent.postMessage({\"jupyterEvent\": \"custom.exercise_interaction\", \"data\": {\"outcomeType\": 1, \"valueTowardsCompletion\": 0.2, \"interactionType\": 1, \"questionType\": 2, \"questionId\": \"3_GetCostPaint\", \"learnToolsVersion\": \"0.3.4\", \"failureMessage\": \"\", \"exceptionClass\": \"\", \"trace\": \"\"}}, \"*\")"
      ],
      "text/plain": [
       "<IPython.core.display.Javascript object>"
      ]
     },
     "metadata": {},
     "output_type": "display_data"
    },
    {
     "data": {
      "text/markdown": [
       "<span style=\"color:#33cc33\">Correct</span>"
      ],
      "text/plain": [
       "Correct"
      ]
     },
     "metadata": {},
     "output_type": "display_data"
    }
   ],
   "source": [
    "# TODO: Finish defining the function\n",
    "def get_cost(sqft_walls, sqft_ceiling, sqft_per_gallon, cost_per_gallon):\n",
    "    cost = (sqft_walls+sqft_ceiling) / sqft_per_gallon * cost_per_gallon\n",
    "    return cost\n",
    "\n",
    "# Check your answer\n",
    "q3.check()"
   ]
  },
  {
   "cell_type": "code",
   "execution_count": 7,
   "id": "d6886619",
   "metadata": {
    "execution": {
     "iopub.execute_input": "2024-06-14T10:03:24.415816Z",
     "iopub.status.busy": "2024-06-14T10:03:24.415434Z",
     "iopub.status.idle": "2024-06-14T10:03:24.419750Z",
     "shell.execute_reply": "2024-06-14T10:03:24.418797Z"
    },
    "papermill": {
     "duration": 0.014547,
     "end_time": "2024-06-14T10:03:24.421863",
     "exception": false,
     "start_time": "2024-06-14T10:03:24.407316",
     "status": "completed"
    },
    "tags": []
   },
   "outputs": [],
   "source": [
    "# Uncomment to see a hint\n",
    "#q3.hint()\n",
    "\n",
    "# Uncomment to view the solution\n",
    "#q3.solution()"
   ]
  },
  {
   "cell_type": "markdown",
   "id": "814086e4",
   "metadata": {
    "papermill": {
     "duration": 0.006591,
     "end_time": "2024-06-14T10:03:24.435341",
     "exception": false,
     "start_time": "2024-06-14T10:03:24.428750",
     "status": "completed"
    },
    "tags": []
   },
   "source": [
    "# Question 4\n",
    "\n",
    "Use the `get_cost()` function you defined in Question 3 to calculate the cost of applying one coat of paint to a room with:\n",
    "- 432 square feet of walls, and\n",
    "- 144 square feet of ceiling.\n",
    "\n",
    "Assume that one gallon of paint covers 400 square feet and costs $15.  As in Question 3, assume you can buy partial gallons of paint.  Do not round your answer."
   ]
  },
  {
   "cell_type": "markdown",
   "id": "78ae5707",
   "metadata": {
    "papermill": {
     "duration": 0.006413,
     "end_time": "2024-06-14T10:03:24.449111",
     "exception": false,
     "start_time": "2024-06-14T10:03:24.442698",
     "status": "completed"
    },
    "tags": []
   },
   "source": []
  },
  {
   "cell_type": "code",
   "execution_count": 8,
   "id": "e9ddb628",
   "metadata": {
    "execution": {
     "iopub.execute_input": "2024-06-14T10:03:24.464571Z",
     "iopub.status.busy": "2024-06-14T10:03:24.464206Z",
     "iopub.status.idle": "2024-06-14T10:03:24.472380Z",
     "shell.execute_reply": "2024-06-14T10:03:24.471463Z"
    },
    "papermill": {
     "duration": 0.018942,
     "end_time": "2024-06-14T10:03:24.474838",
     "exception": false,
     "start_time": "2024-06-14T10:03:24.455896",
     "status": "completed"
    },
    "tags": []
   },
   "outputs": [
    {
     "data": {
      "application/javascript": [
       "parent.postMessage({\"jupyterEvent\": \"custom.exercise_interaction\", \"data\": {\"outcomeType\": 1, \"valueTowardsCompletion\": 0.2, \"interactionType\": 1, \"questionType\": 1, \"questionId\": \"4_GetCostPaintExample\", \"learnToolsVersion\": \"0.3.4\", \"failureMessage\": \"\", \"exceptionClass\": \"\", \"trace\": \"\"}}, \"*\")"
      ],
      "text/plain": [
       "<IPython.core.display.Javascript object>"
      ]
     },
     "metadata": {},
     "output_type": "display_data"
    },
    {
     "data": {
      "text/markdown": [
       "<span style=\"color:#33cc33\">Correct</span>"
      ],
      "text/plain": [
       "Correct"
      ]
     },
     "metadata": {},
     "output_type": "display_data"
    }
   ],
   "source": [
    "# TODO: Set the project_cost variable to the cost of the project\n",
    "project_cost = get_cost(432, 144, 400, 15)\n",
    "\n",
    "# Check your answer\n",
    "q4.check()"
   ]
  },
  {
   "cell_type": "code",
   "execution_count": 9,
   "id": "6136adcf",
   "metadata": {
    "execution": {
     "iopub.execute_input": "2024-06-14T10:03:24.491197Z",
     "iopub.status.busy": "2024-06-14T10:03:24.490341Z",
     "iopub.status.idle": "2024-06-14T10:03:24.494691Z",
     "shell.execute_reply": "2024-06-14T10:03:24.493674Z"
    },
    "papermill": {
     "duration": 0.014629,
     "end_time": "2024-06-14T10:03:24.496812",
     "exception": false,
     "start_time": "2024-06-14T10:03:24.482183",
     "status": "completed"
    },
    "tags": []
   },
   "outputs": [],
   "source": [
    "# Uncomment to see a hint\n",
    "#q4.hint()\n",
    "\n",
    "# Uncomment to view the solution\n",
    "#q4.solution()"
   ]
  },
  {
   "cell_type": "markdown",
   "id": "58535c38",
   "metadata": {
    "papermill": {
     "duration": 0.007206,
     "end_time": "2024-06-14T10:03:24.511272",
     "exception": false,
     "start_time": "2024-06-14T10:03:24.504066",
     "status": "completed"
    },
    "tags": []
   },
   "source": [
    "# 🌶️ Question 5\n",
    "\n",
    "Now say you can no longer buy fractions of a gallon.  (For instance, if you need 4.3 gallons to do a project, then you have to buy 5 gallons of paint.)\n",
    "\n",
    "With this new scenario, you will create a new function `get_actual_cost` that uses the same inputs and calculates the cost of your project.\n",
    "\n",
    "One function that you'll need to use to do this is `math.ceil()`.  We demonstrate usage of this function in the code cell below.  It takes as a number as input and rounds the number up to the nearest integer.  \n",
    "\n",
    "Run the next code cell to test this function for yourself.  Feel free to change the value of `test_value` and make sure `math.ceil()` returns the number you expect."
   ]
  },
  {
   "cell_type": "code",
   "execution_count": 10,
   "id": "6c5e80e5",
   "metadata": {
    "execution": {
     "iopub.execute_input": "2024-06-14T10:03:24.527321Z",
     "iopub.status.busy": "2024-06-14T10:03:24.526932Z",
     "iopub.status.idle": "2024-06-14T10:03:24.532565Z",
     "shell.execute_reply": "2024-06-14T10:03:24.531355Z"
    },
    "papermill": {
     "duration": 0.016153,
     "end_time": "2024-06-14T10:03:24.534778",
     "exception": false,
     "start_time": "2024-06-14T10:03:24.518625",
     "status": "completed"
    },
    "tags": []
   },
   "outputs": [
    {
     "name": "stdout",
     "output_type": "stream",
     "text": [
      "11\n"
     ]
    }
   ],
   "source": [
    "test_value = 10.17\n",
    "\n",
    "rounded_value = math.ceil(test_value)\n",
    "print(rounded_value)"
   ]
  },
  {
   "cell_type": "markdown",
   "id": "19301044",
   "metadata": {
    "papermill": {
     "duration": 0.006816,
     "end_time": "2024-06-14T10:03:24.548807",
     "exception": false,
     "start_time": "2024-06-14T10:03:24.541991",
     "status": "completed"
    },
    "tags": []
   },
   "source": [
    "Use the next code cell to define the function `get_actual_cost()`.  You'll need to use the `math.ceil()` function to do this.\n",
    "\n",
    "When answering this question, note that it's completely valid to define a function that makes use of another function.  For instance, we can define a function `round_up_and_divide_by_three` that makes use of the `math.ceil` function:\n",
    "```\n",
    "def round_up_and_divide_by_three(num):\n",
    "    new_value = math.ceil(num)\n",
    "    final_value = new_value / 3\n",
    "    return final_value\n",
    "```"
   ]
  },
  {
   "cell_type": "code",
   "execution_count": 11,
   "id": "5d5b9f4b",
   "metadata": {
    "execution": {
     "iopub.execute_input": "2024-06-14T10:03:24.565431Z",
     "iopub.status.busy": "2024-06-14T10:03:24.564704Z",
     "iopub.status.idle": "2024-06-14T10:03:24.573848Z",
     "shell.execute_reply": "2024-06-14T10:03:24.572910Z"
    },
    "papermill": {
     "duration": 0.019759,
     "end_time": "2024-06-14T10:03:24.575961",
     "exception": false,
     "start_time": "2024-06-14T10:03:24.556202",
     "status": "completed"
    },
    "tags": []
   },
   "outputs": [
    {
     "data": {
      "application/javascript": [
       "parent.postMessage({\"jupyterEvent\": \"custom.exercise_interaction\", \"data\": {\"outcomeType\": 1, \"valueTowardsCompletion\": 0.2, \"interactionType\": 1, \"questionType\": 2, \"questionId\": \"5_NoMoreFractions\", \"learnToolsVersion\": \"0.3.4\", \"failureMessage\": \"\", \"exceptionClass\": \"\", \"trace\": \"\"}}, \"*\")"
      ],
      "text/plain": [
       "<IPython.core.display.Javascript object>"
      ]
     },
     "metadata": {},
     "output_type": "display_data"
    },
    {
     "data": {
      "text/markdown": [
       "<span style=\"color:#33cc33\">Correct</span>"
      ],
      "text/plain": [
       "Correct"
      ]
     },
     "metadata": {},
     "output_type": "display_data"
    }
   ],
   "source": [
    "def get_actual_cost(sqft_walls, sqft_ceiling, sqft_per_gallon, cost_per_gallon):\n",
    "    cost = math.ceil((sqft_walls + sqft_ceiling) / sqft_per_gallon) * cost_per_gallon\n",
    "    return cost\n",
    "\n",
    "# Check your answer\n",
    "q5.check()"
   ]
  },
  {
   "cell_type": "code",
   "execution_count": 12,
   "id": "9821654b",
   "metadata": {
    "execution": {
     "iopub.execute_input": "2024-06-14T10:03:24.592478Z",
     "iopub.status.busy": "2024-06-14T10:03:24.592088Z",
     "iopub.status.idle": "2024-06-14T10:03:24.596655Z",
     "shell.execute_reply": "2024-06-14T10:03:24.595478Z"
    },
    "papermill": {
     "duration": 0.015476,
     "end_time": "2024-06-14T10:03:24.598894",
     "exception": false,
     "start_time": "2024-06-14T10:03:24.583418",
     "status": "completed"
    },
    "tags": []
   },
   "outputs": [],
   "source": [
    "# Uncomment to see a hint\n",
    "#q5.hint()\n",
    "\n",
    "# Uncomment to view the solution\n",
    "#q5.solution()"
   ]
  },
  {
   "cell_type": "markdown",
   "id": "0d415454",
   "metadata": {
    "papermill": {
     "duration": 0.007117,
     "end_time": "2024-06-14T10:03:24.613580",
     "exception": false,
     "start_time": "2024-06-14T10:03:24.606463",
     "status": "completed"
    },
    "tags": []
   },
   "source": [
    "Once your function is verified as correct, run the next code cell to calculate the updated cost of your project."
   ]
  },
  {
   "cell_type": "code",
   "execution_count": 13,
   "id": "77dce90f",
   "metadata": {
    "execution": {
     "iopub.execute_input": "2024-06-14T10:03:24.630235Z",
     "iopub.status.busy": "2024-06-14T10:03:24.629784Z",
     "iopub.status.idle": "2024-06-14T10:03:24.636463Z",
     "shell.execute_reply": "2024-06-14T10:03:24.635442Z"
    },
    "papermill": {
     "duration": 0.01747,
     "end_time": "2024-06-14T10:03:24.638605",
     "exception": false,
     "start_time": "2024-06-14T10:03:24.621135",
     "status": "completed"
    },
    "tags": []
   },
   "outputs": [
    {
     "data": {
      "text/plain": [
       "30"
      ]
     },
     "execution_count": 13,
     "metadata": {},
     "output_type": "execute_result"
    }
   ],
   "source": [
    "get_actual_cost(432, 144, 400, 15) "
   ]
  },
  {
   "cell_type": "markdown",
   "id": "ff4fd803",
   "metadata": {
    "papermill": {
     "duration": 0.007387,
     "end_time": "2024-06-14T10:03:24.653683",
     "exception": false,
     "start_time": "2024-06-14T10:03:24.646296",
     "status": "completed"
    },
    "tags": []
   },
   "source": [
    "Say you're working with a slightly larger room.  Run the next code cell to calculate the cost of the project."
   ]
  },
  {
   "cell_type": "code",
   "execution_count": 14,
   "id": "072a81c6",
   "metadata": {
    "execution": {
     "iopub.execute_input": "2024-06-14T10:03:24.670320Z",
     "iopub.status.busy": "2024-06-14T10:03:24.669951Z",
     "iopub.status.idle": "2024-06-14T10:03:24.676177Z",
     "shell.execute_reply": "2024-06-14T10:03:24.675210Z"
    },
    "papermill": {
     "duration": 0.017028,
     "end_time": "2024-06-14T10:03:24.678242",
     "exception": false,
     "start_time": "2024-06-14T10:03:24.661214",
     "status": "completed"
    },
    "tags": []
   },
   "outputs": [
    {
     "data": {
      "text/plain": [
       "45"
      ]
     },
     "execution_count": 14,
     "metadata": {},
     "output_type": "execute_result"
    }
   ],
   "source": [
    "get_actual_cost(594, 288, 400, 15) "
   ]
  },
  {
   "cell_type": "markdown",
   "id": "d99dfe1c",
   "metadata": {
    "papermill": {
     "duration": 0.007276,
     "end_time": "2024-06-14T10:03:24.693236",
     "exception": false,
     "start_time": "2024-06-14T10:03:24.685960",
     "status": "completed"
    },
    "tags": []
   },
   "source": [
    "# Keep going\n",
    "\n",
    "Continue to learn about **[data types](https://www.kaggle.com/alexisbcook/data-types)**."
   ]
  },
  {
   "cell_type": "markdown",
   "id": "29de7e9c",
   "metadata": {
    "papermill": {
     "duration": 0.007412,
     "end_time": "2024-06-14T10:03:24.708290",
     "exception": false,
     "start_time": "2024-06-14T10:03:24.700878",
     "status": "completed"
    },
    "tags": []
   },
   "source": [
    "---\n",
    "\n",
    "\n",
    "\n",
    "\n",
    "*Have questions or comments? Visit the [course discussion forum](https://www.kaggle.com/learn/intro-to-programming/discussion) to chat with other learners.*"
   ]
  }
 ],
 "metadata": {
  "kaggle": {
   "accelerator": "none",
   "dataSources": [],
   "isGpuEnabled": false,
   "isInternetEnabled": false,
   "language": "python",
   "sourceType": "notebook"
  },
  "kernelspec": {
   "display_name": "Python 3",
   "language": "python",
   "name": "python3"
  },
  "language_info": {
   "codemirror_mode": {
    "name": "ipython",
    "version": 3
   },
   "file_extension": ".py",
   "mimetype": "text/x-python",
   "name": "python",
   "nbconvert_exporter": "python",
   "pygments_lexer": "ipython3",
   "version": "3.10.13"
  },
  "papermill": {
   "default_parameters": {},
   "duration": 4.619352,
   "end_time": "2024-06-14T10:03:25.136189",
   "environment_variables": {},
   "exception": null,
   "input_path": "__notebook__.ipynb",
   "output_path": "__notebook__.ipynb",
   "parameters": {},
   "start_time": "2024-06-14T10:03:20.516837",
   "version": "2.5.0"
  }
 },
 "nbformat": 4,
 "nbformat_minor": 5
}
