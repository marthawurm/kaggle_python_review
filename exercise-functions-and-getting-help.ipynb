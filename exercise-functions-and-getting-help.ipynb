{
 "cells": [
  {
   "cell_type": "markdown",
   "id": "3740cc78",
   "metadata": {
    "papermill": {
     "duration": 0.005717,
     "end_time": "2024-06-14T19:46:11.297069",
     "exception": false,
     "start_time": "2024-06-14T19:46:11.291352",
     "status": "completed"
    },
    "tags": []
   },
   "source": [
    "**This notebook is an exercise in the [Python](https://www.kaggle.com/learn/python) course.  You can reference the tutorial at [this link](https://www.kaggle.com/colinmorris/functions-and-getting-help).**\n",
    "\n",
    "---\n"
   ]
  },
  {
   "cell_type": "markdown",
   "id": "993ddd49",
   "metadata": {
    "papermill": {
     "duration": 0.004668,
     "end_time": "2024-06-14T19:46:11.307148",
     "exception": false,
     "start_time": "2024-06-14T19:46:11.302480",
     "status": "completed"
    },
    "tags": []
   },
   "source": [
    "Functions are powerful. Try writing some yourself.\n",
    "\n",
    "As before, don't forget to run the setup code below before jumping into question 1."
   ]
  },
  {
   "cell_type": "code",
   "execution_count": 1,
   "id": "fe9d44fe",
   "metadata": {
    "_kg_hide-input": true,
    "_kg_hide-output": true,
    "execution": {
     "iopub.execute_input": "2024-06-14T19:46:11.319007Z",
     "iopub.status.busy": "2024-06-14T19:46:11.318450Z",
     "iopub.status.idle": "2024-06-14T19:46:12.500303Z",
     "shell.execute_reply": "2024-06-14T19:46:12.498961Z"
    },
    "papermill": {
     "duration": 1.190564,
     "end_time": "2024-06-14T19:46:12.502892",
     "exception": false,
     "start_time": "2024-06-14T19:46:11.312328",
     "status": "completed"
    },
    "tags": []
   },
   "outputs": [
    {
     "name": "stdout",
     "output_type": "stream",
     "text": [
      "Setup complete.\n"
     ]
    }
   ],
   "source": [
    "# SETUP. You don't need to worry for now about what this code does or how it works.\n",
    "from learntools.core import binder; binder.bind(globals())\n",
    "from learntools.python.ex2 import *\n",
    "print('Setup complete.')"
   ]
  },
  {
   "cell_type": "markdown",
   "id": "032654e3",
   "metadata": {
    "papermill": {
     "duration": 0.005618,
     "end_time": "2024-06-14T19:46:12.513395",
     "exception": false,
     "start_time": "2024-06-14T19:46:12.507777",
     "status": "completed"
    },
    "tags": []
   },
   "source": [
    "# 1.\n",
    "\n",
    "Complete the body of the following function according to its docstring.\n",
    "\n",
    "HINT: Python has a built-in function `round`."
   ]
  },
  {
   "cell_type": "code",
   "execution_count": 2,
   "id": "4a185b26",
   "metadata": {
    "execution": {
     "iopub.execute_input": "2024-06-14T19:46:12.525197Z",
     "iopub.status.busy": "2024-06-14T19:46:12.524692Z",
     "iopub.status.idle": "2024-06-14T19:46:12.536373Z",
     "shell.execute_reply": "2024-06-14T19:46:12.534958Z"
    },
    "papermill": {
     "duration": 0.020455,
     "end_time": "2024-06-14T19:46:12.538840",
     "exception": false,
     "start_time": "2024-06-14T19:46:12.518385",
     "status": "completed"
    },
    "tags": []
   },
   "outputs": [
    {
     "data": {
      "application/javascript": [
       "parent.postMessage({\"jupyterEvent\": \"custom.exercise_interaction\", \"data\": {\"outcomeType\": 1, \"valueTowardsCompletion\": 0.16666666666666666, \"interactionType\": 1, \"questionType\": 2, \"questionId\": \"1_RoundFunctionProblem\", \"learnToolsVersion\": \"0.3.4\", \"failureMessage\": \"\", \"exceptionClass\": \"\", \"trace\": \"\"}}, \"*\")"
      ],
      "text/plain": [
       "<IPython.core.display.Javascript object>"
      ]
     },
     "metadata": {},
     "output_type": "display_data"
    },
    {
     "data": {
      "text/markdown": [
       "<span style=\"color:#33cc33\">Correct</span>"
      ],
      "text/plain": [
       "Correct"
      ]
     },
     "metadata": {},
     "output_type": "display_data"
    }
   ],
   "source": [
    "def round_to_two_places(num):\n",
    "    \"\"\"Return the given number rounded to two decimal places. \n",
    "    \n",
    "    >>> round_to_two_places(3.14159)\n",
    "    3.14\n",
    "    \"\"\"\n",
    "    # Replace this body with your own code.\n",
    "    # (\"pass\" is a keyword that does literally nothing. We used it as a placeholder\n",
    "    # because after we begin a code block, Python requires at least one line of code)\n",
    "    return round(num, 2)\n",
    "\n",
    "# Check your answer\n",
    "q1.check()"
   ]
  },
  {
   "cell_type": "code",
   "execution_count": 3,
   "id": "e967fea2",
   "metadata": {
    "execution": {
     "iopub.execute_input": "2024-06-14T19:46:12.550736Z",
     "iopub.status.busy": "2024-06-14T19:46:12.550345Z",
     "iopub.status.idle": "2024-06-14T19:46:12.555626Z",
     "shell.execute_reply": "2024-06-14T19:46:12.554367Z"
    },
    "papermill": {
     "duration": 0.014156,
     "end_time": "2024-06-14T19:46:12.558111",
     "exception": false,
     "start_time": "2024-06-14T19:46:12.543955",
     "status": "completed"
    },
    "tags": []
   },
   "outputs": [],
   "source": [
    "# Uncomment the following for a hint\n",
    "#q1.hint()\n",
    "# Or uncomment the following to peek at the solution\n",
    "#q1.solution()"
   ]
  },
  {
   "cell_type": "markdown",
   "id": "48c36eef",
   "metadata": {
    "papermill": {
     "duration": 0.004769,
     "end_time": "2024-06-14T19:46:12.567979",
     "exception": false,
     "start_time": "2024-06-14T19:46:12.563210",
     "status": "completed"
    },
    "tags": []
   },
   "source": [
    "# 2.\n",
    "The help for `round` says that `ndigits` (the second argument) may be negative.\n",
    "What do you think will happen when it is? Try some examples in the following cell."
   ]
  },
  {
   "cell_type": "code",
   "execution_count": 4,
   "id": "fa00738b",
   "metadata": {
    "execution": {
     "iopub.execute_input": "2024-06-14T19:46:12.579927Z",
     "iopub.status.busy": "2024-06-14T19:46:12.579545Z",
     "iopub.status.idle": "2024-06-14T19:46:12.585097Z",
     "shell.execute_reply": "2024-06-14T19:46:12.583757Z"
    },
    "papermill": {
     "duration": 0.01518,
     "end_time": "2024-06-14T19:46:12.588424",
     "exception": false,
     "start_time": "2024-06-14T19:46:12.573244",
     "status": "completed"
    },
    "tags": []
   },
   "outputs": [
    {
     "name": "stdout",
     "output_type": "stream",
     "text": [
      "123200.0\n"
     ]
    }
   ],
   "source": [
    "# Put your test code here\n",
    "print(round(123243.231234, -2))"
   ]
  },
  {
   "cell_type": "markdown",
   "id": "daeac944",
   "metadata": {
    "papermill": {
     "duration": 0.00499,
     "end_time": "2024-06-14T19:46:12.598835",
     "exception": false,
     "start_time": "2024-06-14T19:46:12.593845",
     "status": "completed"
    },
    "tags": []
   },
   "source": [
    "Can you think of a case where this would be useful?  Once you're ready, run the code cell below to see the answer and to receive credit for completing the problem."
   ]
  },
  {
   "cell_type": "code",
   "execution_count": 5,
   "id": "29871320",
   "metadata": {
    "execution": {
     "iopub.execute_input": "2024-06-14T19:46:12.611647Z",
     "iopub.status.busy": "2024-06-14T19:46:12.610541Z",
     "iopub.status.idle": "2024-06-14T19:46:12.619222Z",
     "shell.execute_reply": "2024-06-14T19:46:12.617969Z"
    },
    "papermill": {
     "duration": 0.017613,
     "end_time": "2024-06-14T19:46:12.621591",
     "exception": false,
     "start_time": "2024-06-14T19:46:12.603978",
     "status": "completed"
    },
    "tags": []
   },
   "outputs": [
    {
     "data": {
      "application/javascript": [
       "parent.postMessage({\"jupyterEvent\": \"custom.exercise_interaction\", \"data\": {\"interactionType\": 3, \"questionType\": 4, \"questionId\": \"2_RoundNdigitsProblem\", \"learnToolsVersion\": \"0.3.4\", \"valueTowardsCompletion\": 0.0, \"failureMessage\": \"\", \"exceptionClass\": \"\", \"trace\": \"\", \"outcomeType\": 4}}, \"*\")"
      ],
      "text/plain": [
       "<IPython.core.display.Javascript object>"
      ]
     },
     "metadata": {},
     "output_type": "display_data"
    },
    {
     "data": {
      "text/markdown": [
       "<span style=\"color:#33cc99\">Solution:</span> As you've seen, `ndigits=-1` rounds to the nearest 10, `ndigits=-2` rounds to the nearest 100 and so on. Where might this be useful? Suppose we're dealing with large numbers:\n",
       "\n",
       "> The area of Finland is 338,424 km²  \n",
       "> The area of Greenland is 2,166,086 km²\n",
       "\n",
       "We probably don't care whether it's really 338,424, or 338,425, or 338,177. All those digits of accuracy are just distracting. We can chop them off by calling `round()` with `ndigits=-3`:\n",
       "\n",
       "> The area of Finland is 338,000 km²  \n",
       "> The area of Greenland is 2,166,000 km²\n",
       "\n",
       "(We'll talk about how we would get the commas later when we talk about string formatting :))\n"
      ],
      "text/plain": [
       "Solution: As you've seen, `ndigits=-1` rounds to the nearest 10, `ndigits=-2` rounds to the nearest 100 and so on. Where might this be useful? Suppose we're dealing with large numbers:\n",
       "\n",
       "> The area of Finland is 338,424 km²  \n",
       "> The area of Greenland is 2,166,086 km²\n",
       "\n",
       "We probably don't care whether it's really 338,424, or 338,425, or 338,177. All those digits of accuracy are just distracting. We can chop them off by calling `round()` with `ndigits=-3`:\n",
       "\n",
       "> The area of Finland is 338,000 km²  \n",
       "> The area of Greenland is 2,166,000 km²\n",
       "\n",
       "(We'll talk about how we would get the commas later when we talk about string formatting :))"
      ]
     },
     "metadata": {},
     "output_type": "display_data"
    }
   ],
   "source": [
    "# Check your answer (Run this code cell to receive credit!)\n",
    "q2.solution()"
   ]
  },
  {
   "cell_type": "markdown",
   "id": "6ade8ad1",
   "metadata": {
    "papermill": {
     "duration": 0.005142,
     "end_time": "2024-06-14T19:46:12.632351",
     "exception": false,
     "start_time": "2024-06-14T19:46:12.627209",
     "status": "completed"
    },
    "tags": []
   },
   "source": [
    "# 3.\n",
    "\n",
    "In the previous exercise, the candy-sharing friends Alice, Bob and Carol tried to split candies evenly. For the sake of their friendship, any candies left over would be smashed. For example, if they collectively bring home 91 candies, they'll take 30 each and smash 1.\n",
    "\n",
    "Below is a simple function that will calculate the number of candies to smash for *any* number of total candies.\n",
    "\n",
    "Modify it so that it optionally takes a second argument representing the number of friends the candies are being split between. If no second argument is provided, it should assume 3 friends, as before.\n",
    "\n",
    "Update the docstring to reflect this new behaviour."
   ]
  },
  {
   "cell_type": "markdown",
   "id": "cd7a0ffd",
   "metadata": {
    "papermill": {
     "duration": 0.005174,
     "end_time": "2024-06-14T19:46:12.643305",
     "exception": false,
     "start_time": "2024-06-14T19:46:12.638131",
     "status": "completed"
    },
    "tags": []
   },
   "source": []
  },
  {
   "cell_type": "code",
   "execution_count": 6,
   "id": "5f72bde5",
   "metadata": {
    "execution": {
     "iopub.execute_input": "2024-06-14T19:46:12.655591Z",
     "iopub.status.busy": "2024-06-14T19:46:12.655247Z",
     "iopub.status.idle": "2024-06-14T19:46:12.664618Z",
     "shell.execute_reply": "2024-06-14T19:46:12.663483Z"
    },
    "papermill": {
     "duration": 0.018395,
     "end_time": "2024-06-14T19:46:12.667021",
     "exception": false,
     "start_time": "2024-06-14T19:46:12.648626",
     "status": "completed"
    },
    "tags": []
   },
   "outputs": [
    {
     "data": {
      "application/javascript": [
       "parent.postMessage({\"jupyterEvent\": \"custom.exercise_interaction\", \"data\": {\"outcomeType\": 1, \"valueTowardsCompletion\": 0.16666666666666666, \"interactionType\": 1, \"questionType\": 2, \"questionId\": \"3_CandySmashingFunctionProblem\", \"learnToolsVersion\": \"0.3.4\", \"failureMessage\": \"\", \"exceptionClass\": \"\", \"trace\": \"\"}}, \"*\")"
      ],
      "text/plain": [
       "<IPython.core.display.Javascript object>"
      ]
     },
     "metadata": {},
     "output_type": "display_data"
    },
    {
     "data": {
      "text/markdown": [
       "<span style=\"color:#33cc33\">Correct</span>"
      ],
      "text/plain": [
       "Correct"
      ]
     },
     "metadata": {},
     "output_type": "display_data"
    }
   ],
   "source": [
    "def to_smash(total_candies, num_friends=3):\n",
    "    \"\"\"Return the number of leftover candies that must be smashed after distributing\n",
    "    the given number of candies evenly between 3 friends.\n",
    "    \n",
    "    >>> to_smash(91)\n",
    "    1\n",
    "    \"\"\"\n",
    "    return total_candies % num_friends\n",
    "\n",
    "# Check your answer\n",
    "q3.check()"
   ]
  },
  {
   "cell_type": "code",
   "execution_count": 7,
   "id": "488a32eb",
   "metadata": {
    "execution": {
     "iopub.execute_input": "2024-06-14T19:46:12.680110Z",
     "iopub.status.busy": "2024-06-14T19:46:12.679731Z",
     "iopub.status.idle": "2024-06-14T19:46:12.684913Z",
     "shell.execute_reply": "2024-06-14T19:46:12.683662Z"
    },
    "papermill": {
     "duration": 0.014653,
     "end_time": "2024-06-14T19:46:12.687466",
     "exception": false,
     "start_time": "2024-06-14T19:46:12.672813",
     "status": "completed"
    },
    "tags": []
   },
   "outputs": [],
   "source": [
    "#q3.hint()"
   ]
  },
  {
   "cell_type": "code",
   "execution_count": 8,
   "id": "f39ae1a3",
   "metadata": {
    "execution": {
     "iopub.execute_input": "2024-06-14T19:46:12.700903Z",
     "iopub.status.busy": "2024-06-14T19:46:12.700512Z",
     "iopub.status.idle": "2024-06-14T19:46:12.705215Z",
     "shell.execute_reply": "2024-06-14T19:46:12.704178Z"
    },
    "papermill": {
     "duration": 0.013833,
     "end_time": "2024-06-14T19:46:12.707406",
     "exception": false,
     "start_time": "2024-06-14T19:46:12.693573",
     "status": "completed"
    },
    "tags": []
   },
   "outputs": [],
   "source": [
    "#q3.solution()"
   ]
  },
  {
   "cell_type": "markdown",
   "id": "879964e4",
   "metadata": {
    "papermill": {
     "duration": 0.005612,
     "end_time": "2024-06-14T19:46:12.719112",
     "exception": false,
     "start_time": "2024-06-14T19:46:12.713500",
     "status": "completed"
    },
    "tags": []
   },
   "source": [
    "# 4. (Optional)\n",
    "\n",
    "It may not be fun, but reading and understanding error messages will be an important part of your Python career.\n",
    "\n",
    "Each code cell below contains some commented buggy code. For each cell...\n",
    "\n",
    "1. Read the code and predict what you think will happen when it's run.\n",
    "2. Then uncomment the code and run it to see what happens. (**Tip**: In the kernel editor, you can highlight several lines and press `ctrl`+`/` to toggle commenting.)\n",
    "3. Fix the code (so that it accomplishes its intended purpose without throwing an exception)\n",
    "\n",
    "<!-- TODO: should this be autochecked? Delta is probably pretty small. -->"
   ]
  },
  {
   "cell_type": "code",
   "execution_count": 9,
   "id": "5620fe27",
   "metadata": {
    "execution": {
     "iopub.execute_input": "2024-06-14T19:46:12.732995Z",
     "iopub.status.busy": "2024-06-14T19:46:12.732481Z",
     "iopub.status.idle": "2024-06-14T19:46:12.739269Z",
     "shell.execute_reply": "2024-06-14T19:46:12.738241Z"
    },
    "papermill": {
     "duration": 0.016518,
     "end_time": "2024-06-14T19:46:12.741430",
     "exception": false,
     "start_time": "2024-06-14T19:46:12.724912",
     "status": "completed"
    },
    "tags": []
   },
   "outputs": [
    {
     "data": {
      "text/plain": [
       "10.0"
      ]
     },
     "execution_count": 9,
     "metadata": {},
     "output_type": "execute_result"
    }
   ],
   "source": [
    "round_to_two_places(9.9999)"
   ]
  },
  {
   "cell_type": "code",
   "execution_count": 10,
   "id": "15b9c359",
   "metadata": {
    "execution": {
     "iopub.execute_input": "2024-06-14T19:46:12.755582Z",
     "iopub.status.busy": "2024-06-14T19:46:12.755219Z",
     "iopub.status.idle": "2024-06-14T19:46:12.760428Z",
     "shell.execute_reply": "2024-06-14T19:46:12.759177Z"
    },
    "papermill": {
     "duration": 0.015212,
     "end_time": "2024-06-14T19:46:12.762555",
     "exception": false,
     "start_time": "2024-06-14T19:46:12.747343",
     "status": "completed"
    },
    "tags": []
   },
   "outputs": [],
   "source": [
    "x = -10\n",
    "y = 5\n",
    "# # Which of the two variables above has the smallest absolute value?\n",
    "smallest_abs = min(abs(x), abs(y))"
   ]
  },
  {
   "cell_type": "code",
   "execution_count": 11,
   "id": "8ba7dc97",
   "metadata": {
    "execution": {
     "iopub.execute_input": "2024-06-14T19:46:12.776320Z",
     "iopub.status.busy": "2024-06-14T19:46:12.775833Z",
     "iopub.status.idle": "2024-06-14T19:46:12.781602Z",
     "shell.execute_reply": "2024-06-14T19:46:12.780555Z"
    },
    "papermill": {
     "duration": 0.015665,
     "end_time": "2024-06-14T19:46:12.784288",
     "exception": false,
     "start_time": "2024-06-14T19:46:12.768623",
     "status": "completed"
    },
    "tags": []
   },
   "outputs": [
    {
     "name": "stdout",
     "output_type": "stream",
     "text": [
      "5\n"
     ]
    }
   ],
   "source": [
    "def f(x):\n",
    "    y = abs(x)\n",
    "    return y\n",
    "\n",
    "print(f(5))"
   ]
  },
  {
   "cell_type": "markdown",
   "id": "cdc2776b",
   "metadata": {
    "papermill": {
     "duration": 0.005883,
     "end_time": "2024-06-14T19:46:12.796670",
     "exception": false,
     "start_time": "2024-06-14T19:46:12.790787",
     "status": "completed"
    },
    "tags": []
   },
   "source": [
    "# Keep Going\n",
    "\n",
    "Nice job with the code. Next up, you'll learn about *conditionals*, which you'll need to **[write interesting programs](https://www.kaggle.com/colinmorris/booleans-and-conditionals)**. "
   ]
  },
  {
   "cell_type": "markdown",
   "id": "ff02bbb2",
   "metadata": {
    "papermill": {
     "duration": 0.005706,
     "end_time": "2024-06-14T19:46:12.808484",
     "exception": false,
     "start_time": "2024-06-14T19:46:12.802778",
     "status": "completed"
    },
    "tags": []
   },
   "source": [
    "---\n",
    "\n",
    "\n",
    "\n",
    "\n",
    "*Have questions or comments? Visit the [course discussion forum](https://www.kaggle.com/learn/python/discussion) to chat with other learners.*"
   ]
  }
 ],
 "metadata": {
  "kaggle": {
   "accelerator": "none",
   "dataSources": [],
   "isGpuEnabled": false,
   "isInternetEnabled": false,
   "language": "python",
   "sourceType": "notebook"
  },
  "kernelspec": {
   "display_name": "Python 3",
   "language": "python",
   "name": "python3"
  },
  "language_info": {
   "codemirror_mode": {
    "name": "ipython",
    "version": 3
   },
   "file_extension": ".py",
   "mimetype": "text/x-python",
   "name": "python",
   "nbconvert_exporter": "python",
   "pygments_lexer": "ipython3",
   "version": "3.10.13"
  },
  "learntools_metadata": {
   "lesson_index": 1,
   "type": "exercise"
  },
  "papermill": {
   "default_parameters": {},
   "duration": 5.007539,
   "end_time": "2024-06-14T19:46:13.337946",
   "environment_variables": {},
   "exception": null,
   "input_path": "__notebook__.ipynb",
   "output_path": "__notebook__.ipynb",
   "parameters": {},
   "start_time": "2024-06-14T19:46:08.330407",
   "version": "2.5.0"
  }
 },
 "nbformat": 4,
 "nbformat_minor": 5
}
