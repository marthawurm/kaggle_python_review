{
 "cells": [
  {
   "cell_type": "markdown",
   "id": "347c5f3d",
   "metadata": {
    "papermill": {
     "duration": 0.006395,
     "end_time": "2024-06-14T11:57:01.707252",
     "exception": false,
     "start_time": "2024-06-14T11:57:01.700857",
     "status": "completed"
    },
    "tags": []
   },
   "source": [
    "**This notebook is an exercise in the [Intro to Programming](https://www.kaggle.com/learn/intro-to-programming) course.  You can reference the tutorial at [this link](https://www.kaggle.com/alexisbcook/intro-to-lists).**\n",
    "\n",
    "---\n"
   ]
  },
  {
   "cell_type": "markdown",
   "id": "f02b149b",
   "metadata": {
    "papermill": {
     "duration": 0.005669,
     "end_time": "2024-06-14T11:57:01.720391",
     "exception": false,
     "start_time": "2024-06-14T11:57:01.714722",
     "status": "completed"
    },
    "tags": []
   },
   "source": [
    "In the tutorial, you learned how to define and modify Python lists.  In this exercise, you will use your new knowledge to solve several problems.\n",
    "\n",
    "# Set up the notebook\n",
    "\n",
    "Run the next code cell without changes to set up the notebook."
   ]
  },
  {
   "cell_type": "code",
   "execution_count": 1,
   "id": "0e9ca480",
   "metadata": {
    "execution": {
     "iopub.execute_input": "2024-06-14T11:57:01.733678Z",
     "iopub.status.busy": "2024-06-14T11:57:01.733269Z",
     "iopub.status.idle": "2024-06-14T11:57:02.567018Z",
     "shell.execute_reply": "2024-06-14T11:57:02.565823Z"
    },
    "papermill": {
     "duration": 0.843418,
     "end_time": "2024-06-14T11:57:02.569586",
     "exception": false,
     "start_time": "2024-06-14T11:57:01.726168",
     "status": "completed"
    },
    "tags": []
   },
   "outputs": [
    {
     "name": "stdout",
     "output_type": "stream",
     "text": [
      "Setup complete.\n"
     ]
    }
   ],
   "source": [
    "from learntools.core import binder\n",
    "binder.bind(globals())\n",
    "from learntools.intro_to_programming.ex5 import *\n",
    "print('Setup complete.')"
   ]
  },
  {
   "cell_type": "markdown",
   "id": "d55b6fdc",
   "metadata": {
    "papermill": {
     "duration": 0.00558,
     "end_time": "2024-06-14T11:57:02.581135",
     "exception": false,
     "start_time": "2024-06-14T11:57:02.575555",
     "status": "completed"
    },
    "tags": []
   },
   "source": [
    "# Question 1\n",
    "\n",
    "You own a restaurant with five food dishes, organized in the Python list `menu` below.  One day, you decide to:\n",
    "- remove bean soup (`'bean soup'`) from the menu, and\n",
    "- add roasted beet salad (`'roasted beet salad'`) to the menu.\n",
    "\n",
    "Implement this change to the list below.  While completing this task, \n",
    "- do not change the line that creates the `menu` list.  \n",
    "- your answer should use `.remove()` and `.append()`.  "
   ]
  },
  {
   "cell_type": "code",
   "execution_count": 2,
   "id": "6b9a0e37",
   "metadata": {
    "execution": {
     "iopub.execute_input": "2024-06-14T11:57:02.595232Z",
     "iopub.status.busy": "2024-06-14T11:57:02.594021Z",
     "iopub.status.idle": "2024-06-14T11:57:02.604400Z",
     "shell.execute_reply": "2024-06-14T11:57:02.603401Z"
    },
    "papermill": {
     "duration": 0.019671,
     "end_time": "2024-06-14T11:57:02.606634",
     "exception": false,
     "start_time": "2024-06-14T11:57:02.586963",
     "status": "completed"
    },
    "tags": []
   },
   "outputs": [
    {
     "data": {
      "application/javascript": [
       "parent.postMessage({\"jupyterEvent\": \"custom.exercise_interaction\", \"data\": {\"outcomeType\": 1, \"valueTowardsCompletion\": 0.2, \"interactionType\": 1, \"questionType\": 2, \"questionId\": \"1_FoodMenu\", \"learnToolsVersion\": \"0.3.4\", \"failureMessage\": \"\", \"exceptionClass\": \"\", \"trace\": \"\"}}, \"*\")"
      ],
      "text/plain": [
       "<IPython.core.display.Javascript object>"
      ]
     },
     "metadata": {},
     "output_type": "display_data"
    },
    {
     "data": {
      "text/markdown": [
       "<span style=\"color:#33cc33\">Correct</span>"
      ],
      "text/plain": [
       "Correct"
      ]
     },
     "metadata": {},
     "output_type": "display_data"
    }
   ],
   "source": [
    "# Do not change: Initial menu for your restaurant\n",
    "menu = ['stewed meat with onions', 'bean soup', 'risotto with trout and shrimp',\n",
    "       'fish soup with cream and onion', 'gyro']\n",
    "\n",
    "# TODO: remove 'bean soup', and add 'roasted beet salad' to the end of the menu\n",
    "menu.remove('bean soup')\n",
    "menu.append('roasted beet salad')\n",
    "# Do not change: Check your answer\n",
    "q1.check()"
   ]
  },
  {
   "cell_type": "code",
   "execution_count": 3,
   "id": "df8a5ddc",
   "metadata": {
    "execution": {
     "iopub.execute_input": "2024-06-14T11:57:02.620697Z",
     "iopub.status.busy": "2024-06-14T11:57:02.620361Z",
     "iopub.status.idle": "2024-06-14T11:57:02.624549Z",
     "shell.execute_reply": "2024-06-14T11:57:02.623599Z"
    },
    "papermill": {
     "duration": 0.013735,
     "end_time": "2024-06-14T11:57:02.626690",
     "exception": false,
     "start_time": "2024-06-14T11:57:02.612955",
     "status": "completed"
    },
    "tags": []
   },
   "outputs": [],
   "source": [
    "# Uncomment to see a hint\n",
    "#q1.hint()\n",
    "\n",
    "# Uncomment to see the solution\n",
    "#q1.solution()"
   ]
  },
  {
   "cell_type": "markdown",
   "id": "54b41f9f",
   "metadata": {
    "papermill": {
     "duration": 0.005777,
     "end_time": "2024-06-14T11:57:02.638942",
     "exception": false,
     "start_time": "2024-06-14T11:57:02.633165",
     "status": "completed"
    },
    "tags": []
   },
   "source": [
    "# Question 2\n",
    "\n",
    "The list `num_customers` contains the number of customers who came into your restaurant every day over the last month (which lasted thirty days).  Fill in values for each of the following:\n",
    "- `avg_first_seven` - average number of customers who visited in the first seven days\n",
    "- `avg_last_seven` - average number of customers who visited in the last seven days\n",
    "- `max_month` - number of customers on the day that got the most customers in the last month\n",
    "- `min_month` - number of customers on the day that got the least customers in the last month\n",
    "\n",
    "Answer this question by writing code.  For instance, if you have to find the minimum value in a list, use `min()` instead of scanning for the smallest value and directly filling in a number."
   ]
  },
  {
   "cell_type": "code",
   "execution_count": 4,
   "id": "d4a1ad85",
   "metadata": {
    "execution": {
     "iopub.execute_input": "2024-06-14T11:57:02.652838Z",
     "iopub.status.busy": "2024-06-14T11:57:02.652468Z",
     "iopub.status.idle": "2024-06-14T11:57:02.662620Z",
     "shell.execute_reply": "2024-06-14T11:57:02.661515Z"
    },
    "papermill": {
     "duration": 0.019807,
     "end_time": "2024-06-14T11:57:02.664873",
     "exception": false,
     "start_time": "2024-06-14T11:57:02.645066",
     "status": "completed"
    },
    "tags": []
   },
   "outputs": [
    {
     "data": {
      "application/javascript": [
       "parent.postMessage({\"jupyterEvent\": \"custom.exercise_interaction\", \"data\": {\"outcomeType\": 1, \"valueTowardsCompletion\": 0.2, \"interactionType\": 1, \"questionType\": 1, \"questionId\": \"2_NumCustomers\", \"learnToolsVersion\": \"0.3.4\", \"failureMessage\": \"\", \"exceptionClass\": \"\", \"trace\": \"\"}}, \"*\")"
      ],
      "text/plain": [
       "<IPython.core.display.Javascript object>"
      ]
     },
     "metadata": {},
     "output_type": "display_data"
    },
    {
     "data": {
      "text/markdown": [
       "<span style=\"color:#33cc33\">Correct</span>"
      ],
      "text/plain": [
       "Correct"
      ]
     },
     "metadata": {},
     "output_type": "display_data"
    }
   ],
   "source": [
    "# Do not change: Number of customers each day for the last month\n",
    "num_customers = [137, 147, 135, 128, 170, 174, 165, 146, 126, 159,\n",
    "                 141, 148, 132, 147, 168, 153, 170, 161, 148, 152,\n",
    "                 141, 151, 131, 149, 164, 163, 143, 143, 166, 171]\n",
    "\n",
    "# TODO: Fill in values for the variables below\n",
    "avg_first_seven = sum(num_customers[:7]) / 7 \n",
    "avg_last_seven = sum(num_customers[-7:]) / 7 \n",
    "max_month = max(num_customers)\n",
    "min_month = min(num_customers)\n",
    "\n",
    "# Do not change: Check your answer\n",
    "q2.check()"
   ]
  },
  {
   "cell_type": "code",
   "execution_count": 5,
   "id": "c30d5aff",
   "metadata": {
    "execution": {
     "iopub.execute_input": "2024-06-14T11:57:02.679825Z",
     "iopub.status.busy": "2024-06-14T11:57:02.679001Z",
     "iopub.status.idle": "2024-06-14T11:57:02.683592Z",
     "shell.execute_reply": "2024-06-14T11:57:02.682561Z"
    },
    "papermill": {
     "duration": 0.014598,
     "end_time": "2024-06-14T11:57:02.685878",
     "exception": false,
     "start_time": "2024-06-14T11:57:02.671280",
     "status": "completed"
    },
    "tags": []
   },
   "outputs": [],
   "source": [
    "# Uncomment to see a hint\n",
    "#q2.hint()\n",
    "\n",
    "# Uncomment to see the solution\n",
    "#q2.solution()"
   ]
  },
  {
   "cell_type": "markdown",
   "id": "dff9bd96",
   "metadata": {
    "papermill": {
     "duration": 0.006224,
     "end_time": "2024-06-14T11:57:02.698663",
     "exception": false,
     "start_time": "2024-06-14T11:57:02.692439",
     "status": "completed"
    },
    "tags": []
   },
   "source": [
    "# Question 3\n",
    "\n",
    "In the tutorial, we gave an example of a Python string with information that was better as a list."
   ]
  },
  {
   "cell_type": "code",
   "execution_count": 6,
   "id": "d5c7b70c",
   "metadata": {
    "execution": {
     "iopub.execute_input": "2024-06-14T11:57:02.714129Z",
     "iopub.status.busy": "2024-06-14T11:57:02.713024Z",
     "iopub.status.idle": "2024-06-14T11:57:02.718810Z",
     "shell.execute_reply": "2024-06-14T11:57:02.717683Z"
    },
    "papermill": {
     "duration": 0.015591,
     "end_time": "2024-06-14T11:57:02.720908",
     "exception": false,
     "start_time": "2024-06-14T11:57:02.705317",
     "status": "completed"
    },
    "tags": []
   },
   "outputs": [],
   "source": [
    "flowers = \"pink primrose,hard-leaved pocket orchid,canterbury bells,sweet pea,english marigold,tiger lily,moon orchid,bird of paradise,monkshood,globe thistle\""
   ]
  },
  {
   "cell_type": "markdown",
   "id": "d42492a3",
   "metadata": {
    "papermill": {
     "duration": 0.006212,
     "end_time": "2024-06-14T11:57:02.733733",
     "exception": false,
     "start_time": "2024-06-14T11:57:02.727521",
     "status": "completed"
    },
    "tags": []
   },
   "source": [
    "You can actually use Python to quickly turn this string into a list with `.split()`.  In the parentheses, we need to provide the character should be used to mark the end of one list item and the beginning of another, and enclose it in quotation marks.  In this case, that character is a comma."
   ]
  },
  {
   "cell_type": "code",
   "execution_count": 7,
   "id": "d8f52c11",
   "metadata": {
    "execution": {
     "iopub.execute_input": "2024-06-14T11:57:02.749142Z",
     "iopub.status.busy": "2024-06-14T11:57:02.748056Z",
     "iopub.status.idle": "2024-06-14T11:57:02.753355Z",
     "shell.execute_reply": "2024-06-14T11:57:02.752312Z"
    },
    "papermill": {
     "duration": 0.015071,
     "end_time": "2024-06-14T11:57:02.755463",
     "exception": false,
     "start_time": "2024-06-14T11:57:02.740392",
     "status": "completed"
    },
    "tags": []
   },
   "outputs": [
    {
     "name": "stdout",
     "output_type": "stream",
     "text": [
      "['pink primrose', 'hard-leaved pocket orchid', 'canterbury bells', 'sweet pea', 'english marigold', 'tiger lily', 'moon orchid', 'bird of paradise', 'monkshood', 'globe thistle']\n"
     ]
    }
   ],
   "source": [
    " print(flowers.split(\",\"))"
   ]
  },
  {
   "cell_type": "markdown",
   "id": "d519dfd2",
   "metadata": {
    "papermill": {
     "duration": 0.006512,
     "end_time": "2024-06-14T11:57:02.768723",
     "exception": false,
     "start_time": "2024-06-14T11:57:02.762211",
     "status": "completed"
    },
    "tags": []
   },
   "source": [
    "Now it is your turn to try this out!  Create two Python lists:\n",
    "- `letters` should be a Python list where each entry is an uppercase letter of the English alphabet.  For instance, the first two entries should be `\"A\"` and `\"B\"`, and the final two entries should be `\"Y\"` and `\"Z\"`.  Use the string `alphabet` to create this list.\n",
    "- `address` should be a Python list where each row in `address` is a different item in the list.  Currently, each row in `address` is separated by a comma. "
   ]
  },
  {
   "cell_type": "markdown",
   "id": "dfcaf94c",
   "metadata": {
    "papermill": {
     "duration": 0.006372,
     "end_time": "2024-06-14T11:57:02.782539",
     "exception": false,
     "start_time": "2024-06-14T11:57:02.776167",
     "status": "completed"
    },
    "tags": []
   },
   "source": []
  },
  {
   "cell_type": "code",
   "execution_count": 8,
   "id": "48bfebb5",
   "metadata": {
    "execution": {
     "iopub.execute_input": "2024-06-14T11:57:02.797437Z",
     "iopub.status.busy": "2024-06-14T11:57:02.797061Z",
     "iopub.status.idle": "2024-06-14T11:57:02.805986Z",
     "shell.execute_reply": "2024-06-14T11:57:02.805053Z"
    },
    "papermill": {
     "duration": 0.0189,
     "end_time": "2024-06-14T11:57:02.808068",
     "exception": false,
     "start_time": "2024-06-14T11:57:02.789168",
     "status": "completed"
    },
    "tags": []
   },
   "outputs": [
    {
     "data": {
      "application/javascript": [
       "parent.postMessage({\"jupyterEvent\": \"custom.exercise_interaction\", \"data\": {\"outcomeType\": 1, \"valueTowardsCompletion\": 0.2, \"interactionType\": 1, \"questionType\": 1, \"questionId\": \"3_SplitString\", \"learnToolsVersion\": \"0.3.4\", \"failureMessage\": \"\", \"exceptionClass\": \"\", \"trace\": \"\"}}, \"*\")"
      ],
      "text/plain": [
       "<IPython.core.display.Javascript object>"
      ]
     },
     "metadata": {},
     "output_type": "display_data"
    },
    {
     "data": {
      "text/markdown": [
       "<span style=\"color:#33cc33\">Correct</span>"
      ],
      "text/plain": [
       "Correct"
      ]
     },
     "metadata": {},
     "output_type": "display_data"
    }
   ],
   "source": [
    "# DO not change: Define two Python strings\n",
    "alphabet = \"A.B.C.D.E.F.G.H.I.J.K.L.M.N.O.P.Q.R.S.T.U.V.W.X.Y.Z\"\n",
    "address = \"Mr. H. Potter,The cupboard under the Stairs,4 Privet Drive,Little Whinging,Surrey\"\n",
    "\n",
    "# TODO: Convert strings into Python lists\n",
    "letters = alphabet.split(\".\")\n",
    "formatted_address = address.split(\",\")\n",
    "\n",
    "# Do not change: Check your answer\n",
    "q3.check()"
   ]
  },
  {
   "cell_type": "code",
   "execution_count": 9,
   "id": "56afd536",
   "metadata": {
    "execution": {
     "iopub.execute_input": "2024-06-14T11:57:02.823858Z",
     "iopub.status.busy": "2024-06-14T11:57:02.823500Z",
     "iopub.status.idle": "2024-06-14T11:57:02.829401Z",
     "shell.execute_reply": "2024-06-14T11:57:02.828458Z"
    },
    "papermill": {
     "duration": 0.016394,
     "end_time": "2024-06-14T11:57:02.831523",
     "exception": false,
     "start_time": "2024-06-14T11:57:02.815129",
     "status": "completed"
    },
    "tags": []
   },
   "outputs": [],
   "source": [
    "# Uncomment to see a hint\n",
    "#q3.hint()\n",
    "\n",
    "# Uncomment to see the solution\n",
    "#q3.solution()"
   ]
  },
  {
   "cell_type": "markdown",
   "id": "3793e218",
   "metadata": {
    "papermill": {
     "duration": 0.006622,
     "end_time": "2024-06-14T11:57:02.845407",
     "exception": false,
     "start_time": "2024-06-14T11:57:02.838785",
     "status": "completed"
    },
    "tags": []
   },
   "source": [
    "# Question 4\n",
    "\n",
    "In the Python course, you'll learn all about **list comprehensions**, which allow you to create a list based on the values in another list.  In this question, you'll get a brief preview of how they work.\n",
    "\n",
    "Say we're working with the list below."
   ]
  },
  {
   "cell_type": "code",
   "execution_count": 10,
   "id": "4a298cf1",
   "metadata": {
    "execution": {
     "iopub.execute_input": "2024-06-14T11:57:02.860985Z",
     "iopub.status.busy": "2024-06-14T11:57:02.860088Z",
     "iopub.status.idle": "2024-06-14T11:57:02.864877Z",
     "shell.execute_reply": "2024-06-14T11:57:02.863785Z"
    },
    "papermill": {
     "duration": 0.01488,
     "end_time": "2024-06-14T11:57:02.867129",
     "exception": false,
     "start_time": "2024-06-14T11:57:02.852249",
     "status": "completed"
    },
    "tags": []
   },
   "outputs": [],
   "source": [
    "test_ratings = [1, 2, 3, 4, 5]"
   ]
  },
  {
   "cell_type": "markdown",
   "id": "d162983b",
   "metadata": {
    "papermill": {
     "duration": 0.006485,
     "end_time": "2024-06-14T11:57:02.880476",
     "exception": false,
     "start_time": "2024-06-14T11:57:02.873991",
     "status": "completed"
    },
    "tags": []
   },
   "source": [
    "Then we can use this list (`test_ratings`) to create a new list (`test_liked`) where each item has been turned into a boolean, depending on whether or not the item is greater than or equal to four."
   ]
  },
  {
   "cell_type": "code",
   "execution_count": 11,
   "id": "31143c2b",
   "metadata": {
    "execution": {
     "iopub.execute_input": "2024-06-14T11:57:02.895917Z",
     "iopub.status.busy": "2024-06-14T11:57:02.895550Z",
     "iopub.status.idle": "2024-06-14T11:57:02.900826Z",
     "shell.execute_reply": "2024-06-14T11:57:02.899882Z"
    },
    "papermill": {
     "duration": 0.01534,
     "end_time": "2024-06-14T11:57:02.902850",
     "exception": false,
     "start_time": "2024-06-14T11:57:02.887510",
     "status": "completed"
    },
    "tags": []
   },
   "outputs": [
    {
     "name": "stdout",
     "output_type": "stream",
     "text": [
      "[False, False, False, True, True]\n"
     ]
    }
   ],
   "source": [
    "test_ratings = [1, 2, 3, 4, 5]\n",
    "test_liked = [i>=4 for i in test_ratings]\n",
    "print(test_liked)"
   ]
  },
  {
   "cell_type": "markdown",
   "id": "32538582",
   "metadata": {
    "papermill": {
     "duration": 0.006555,
     "end_time": "2024-06-14T11:57:02.916335",
     "exception": false,
     "start_time": "2024-06-14T11:57:02.909780",
     "status": "completed"
    },
    "tags": []
   },
   "source": [
    "In this question, you'll use this list comprehension to define a function `percentage_liked()` that takes one argument as input:\n",
    "- `ratings`: list of ratings that people gave to a movie, where each rating is a number between 1-5, inclusive\n",
    "\n",
    "We say someone liked the movie, if they gave a rating of either 4 or 5.  Your function should return the percentage of people who liked the movie.\n",
    "\n",
    "For instance, if we supply a value of `[1, 2, 3, 4, 5, 4, 5, 1]`, then 50% (4/8) of the people liked the movie, and the function should return `0.5`.\n",
    "\n",
    "Part of the function has already been completed for you.  You need only use `list_liked` to calculate `percentage_liked`."
   ]
  },
  {
   "cell_type": "code",
   "execution_count": 12,
   "id": "923a9641",
   "metadata": {
    "execution": {
     "iopub.execute_input": "2024-06-14T11:57:02.931497Z",
     "iopub.status.busy": "2024-06-14T11:57:02.931145Z",
     "iopub.status.idle": "2024-06-14T11:57:02.940371Z",
     "shell.execute_reply": "2024-06-14T11:57:02.939386Z"
    },
    "papermill": {
     "duration": 0.01935,
     "end_time": "2024-06-14T11:57:02.942552",
     "exception": false,
     "start_time": "2024-06-14T11:57:02.923202",
     "status": "completed"
    },
    "tags": []
   },
   "outputs": [
    {
     "data": {
      "application/javascript": [
       "parent.postMessage({\"jupyterEvent\": \"custom.exercise_interaction\", \"data\": {\"outcomeType\": 1, \"valueTowardsCompletion\": 0.2, \"interactionType\": 1, \"questionType\": 2, \"questionId\": \"4_PercentageLiked\", \"learnToolsVersion\": \"0.3.4\", \"failureMessage\": \"\", \"exceptionClass\": \"\", \"trace\": \"\"}}, \"*\")"
      ],
      "text/plain": [
       "<IPython.core.display.Javascript object>"
      ]
     },
     "metadata": {},
     "output_type": "display_data"
    },
    {
     "data": {
      "text/markdown": [
       "<span style=\"color:#33cc33\">Correct</span>"
      ],
      "text/plain": [
       "Correct"
      ]
     },
     "metadata": {},
     "output_type": "display_data"
    }
   ],
   "source": [
    "\n",
    "def percentage_liked(ratings):\n",
    "    list_liked = [i>=4 for i in ratings]\n",
    "    # TODO: Complete the function\n",
    "    percentage_liked = sum(list_liked) / len(list_liked)\n",
    "    return percentage_liked\n",
    "\n",
    "# Do not change: should return 0.5\n",
    "percentage_liked([1, 2, 3, 4, 5, 4, 5, 1])\n",
    "\n",
    "# Do not change: Check your answer\n",
    "q4.check()"
   ]
  },
  {
   "cell_type": "code",
   "execution_count": 13,
   "id": "838eefac",
   "metadata": {
    "execution": {
     "iopub.execute_input": "2024-06-14T11:57:02.958976Z",
     "iopub.status.busy": "2024-06-14T11:57:02.958064Z",
     "iopub.status.idle": "2024-06-14T11:57:02.966251Z",
     "shell.execute_reply": "2024-06-14T11:57:02.965184Z"
    },
    "papermill": {
     "duration": 0.018638,
     "end_time": "2024-06-14T11:57:02.968338",
     "exception": false,
     "start_time": "2024-06-14T11:57:02.949700",
     "status": "completed"
    },
    "tags": []
   },
   "outputs": [
    {
     "data": {
      "application/javascript": [
       "parent.postMessage({\"jupyterEvent\": \"custom.exercise_interaction\", \"data\": {\"interactionType\": 2, \"questionType\": 2, \"questionId\": \"4_PercentageLiked\", \"learnToolsVersion\": \"0.3.4\", \"valueTowardsCompletion\": 0.0, \"failureMessage\": \"\", \"exceptionClass\": \"\", \"trace\": \"\", \"outcomeType\": 4}}, \"*\")"
      ],
      "text/plain": [
       "<IPython.core.display.Javascript object>"
      ]
     },
     "metadata": {},
     "output_type": "display_data"
    },
    {
     "data": {
      "text/markdown": [
       "<span style=\"color:#3366cc\">Hint:</span> Remember that when we add booleans, it returns the total number of entries in the sum that are `True`."
      ],
      "text/plain": [
       "Hint: Remember that when we add booleans, it returns the total number of entries in the sum that are `True`."
      ]
     },
     "metadata": {},
     "output_type": "display_data"
    }
   ],
   "source": [
    "# Uncomment to see a hint\n",
    "q4.hint()\n",
    "\n",
    "# Uncomment to see the solution\n",
    "#q4.solution()"
   ]
  },
  {
   "cell_type": "markdown",
   "id": "caed4075",
   "metadata": {
    "papermill": {
     "duration": 0.007145,
     "end_time": "2024-06-14T11:57:02.982983",
     "exception": false,
     "start_time": "2024-06-14T11:57:02.975838",
     "status": "completed"
    },
    "tags": []
   },
   "source": [
    "# 🌶️ Question 5\n",
    " \n",
    "Say you're doing analytics for a website.  You need to write a function that returns the percentage growth in the total number of users relative to a specified number of years ago.\n",
    "\n",
    "Your function `percentage_growth()` should take two arguments as input:\n",
    "- `num_users` = Python list with the total number of users each year.  So `num_users[0]` is the total number of users in the first year, `num_users[1]` is the total number of users in the second year, and so on.  The final entry in the list gives the total number of users in the most recently completed year.\n",
    "- `yrs_ago` = number of years to go back in time when calculating the growth percentage\n",
    "\n",
    "For instance, say `num_users = [920344, 1043553, 1204334, 1458996, 1503323, 1593432, 1623463, 1843064, 1930992, 2001078]`.\n",
    "- if `yrs_ago = 1`, we want the function to return a value of about `0.036`. This corresponds to a percentage growth of approximately 3.6%, calculated as (2001078 - 1930992)/1930992.\n",
    "- if `years_ago = 7`, we would want to return approximately `0.66`.  This corresponds to a percentage growth of approximately 66%, calculated as (2001078 - 1204334)/1204334.\n",
    "\n",
    "Your coworker sent you a draft of a function, but it doesn't seem to be doing the correct calculation.  Can you figure out what has gone wrong and make the needed changes?"
   ]
  },
  {
   "cell_type": "code",
   "execution_count": 14,
   "id": "62a78fae",
   "metadata": {
    "execution": {
     "iopub.execute_input": "2024-06-14T11:57:02.999864Z",
     "iopub.status.busy": "2024-06-14T11:57:02.999013Z",
     "iopub.status.idle": "2024-06-14T11:57:03.009707Z",
     "shell.execute_reply": "2024-06-14T11:57:03.008694Z"
    },
    "papermill": {
     "duration": 0.021915,
     "end_time": "2024-06-14T11:57:03.012409",
     "exception": false,
     "start_time": "2024-06-14T11:57:02.990494",
     "status": "completed"
    },
    "tags": []
   },
   "outputs": [
    {
     "name": "stdout",
     "output_type": "stream",
     "text": [
      "0.03629533421163837\n",
      "0.6615639847417742\n"
     ]
    },
    {
     "data": {
      "application/javascript": [
       "parent.postMessage({\"jupyterEvent\": \"custom.exercise_interaction\", \"data\": {\"outcomeType\": 1, \"valueTowardsCompletion\": 0.2, \"interactionType\": 1, \"questionType\": 2, \"questionId\": \"5_WebsiteAnalytics\", \"learnToolsVersion\": \"0.3.4\", \"failureMessage\": \"\", \"exceptionClass\": \"\", \"trace\": \"\"}}, \"*\")"
      ],
      "text/plain": [
       "<IPython.core.display.Javascript object>"
      ]
     },
     "metadata": {},
     "output_type": "display_data"
    },
    {
     "data": {
      "text/markdown": [
       "<span style=\"color:#33cc33\">Correct</span>"
      ],
      "text/plain": [
       "Correct"
      ]
     },
     "metadata": {},
     "output_type": "display_data"
    }
   ],
   "source": [
    "# TODO: Edit the function\n",
    "def percentage_growth(num_users, yrs_ago):\n",
    "    growth = (num_users[-1] - num_users[-1-yrs_ago])/num_users[-1-yrs_ago]\n",
    "    return growth\n",
    "\n",
    "# Do not change: Variable for calculating some test examples\n",
    "num_users_test = [920344, 1043553, 1204334, 1458996, 1503323, 1593432, 1623463, 1843064, 1930992, 2001078]\n",
    "\n",
    "# Do not change: Should return .036\n",
    "print(percentage_growth(num_users_test, 1))\n",
    "\n",
    "# Do not change: Should return 0.66\n",
    "print(percentage_growth(num_users_test, 7))\n",
    "\n",
    "# Do not change: Check your answer\n",
    "q5.check()"
   ]
  },
  {
   "cell_type": "code",
   "execution_count": 15,
   "id": "56e5525b",
   "metadata": {
    "execution": {
     "iopub.execute_input": "2024-06-14T11:57:03.030636Z",
     "iopub.status.busy": "2024-06-14T11:57:03.029866Z",
     "iopub.status.idle": "2024-06-14T11:57:03.034321Z",
     "shell.execute_reply": "2024-06-14T11:57:03.033254Z"
    },
    "papermill": {
     "duration": 0.015792,
     "end_time": "2024-06-14T11:57:03.036537",
     "exception": false,
     "start_time": "2024-06-14T11:57:03.020745",
     "status": "completed"
    },
    "tags": []
   },
   "outputs": [],
   "source": [
    "# Uncomment to see a hint\n",
    "#q5.hint()\n",
    "\n",
    "# Uncomment to see the solution\n",
    "#q5.solution()"
   ]
  },
  {
   "cell_type": "markdown",
   "id": "27f4cadc",
   "metadata": {
    "papermill": {
     "duration": 0.007701,
     "end_time": "2024-06-14T11:57:03.052243",
     "exception": false,
     "start_time": "2024-06-14T11:57:03.044542",
     "status": "completed"
    },
    "tags": []
   },
   "source": [
    "# Congratulations!\n",
    "\n",
    "Congratulations for finishing the Intro to Programming course!  You should be proud of your very first steps with learning programming.  As next steps, we recommend taking:\n",
    "- the **[Python course](http://www.kaggle.com/learn/python)**, and \n",
    "- the **[Intro to Machine Learning course](https://www.kaggle.com/learn/intro-to-machine-learning)**."
   ]
  },
  {
   "cell_type": "markdown",
   "id": "24c59b7d",
   "metadata": {
    "papermill": {
     "duration": 0.007748,
     "end_time": "2024-06-14T11:57:03.068334",
     "exception": false,
     "start_time": "2024-06-14T11:57:03.060586",
     "status": "completed"
    },
    "tags": []
   },
   "source": [
    "---\n",
    "\n",
    "\n",
    "\n",
    "\n",
    "*Have questions or comments? Visit the [course discussion forum](https://www.kaggle.com/learn/intro-to-programming/discussion) to chat with other learners.*"
   ]
  }
 ],
 "metadata": {
  "kaggle": {
   "accelerator": "none",
   "dataSources": [],
   "isGpuEnabled": false,
   "isInternetEnabled": false,
   "language": "python",
   "sourceType": "notebook"
  },
  "kernelspec": {
   "display_name": "Python 3",
   "language": "python",
   "name": "python3"
  },
  "language_info": {
   "codemirror_mode": {
    "name": "ipython",
    "version": 3
   },
   "file_extension": ".py",
   "mimetype": "text/x-python",
   "name": "python",
   "nbconvert_exporter": "python",
   "pygments_lexer": "ipython3",
   "version": "3.10.13"
  },
  "papermill": {
   "default_parameters": {},
   "duration": 4.500966,
   "end_time": "2024-06-14T11:57:03.496517",
   "environment_variables": {},
   "exception": null,
   "input_path": "__notebook__.ipynb",
   "output_path": "__notebook__.ipynb",
   "parameters": {},
   "start_time": "2024-06-14T11:56:58.995551",
   "version": "2.5.0"
  }
 },
 "nbformat": 4,
 "nbformat_minor": 5
}
